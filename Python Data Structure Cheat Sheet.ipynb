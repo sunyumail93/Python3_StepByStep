{
 "cells": [
  {
   "cell_type": "markdown",
   "metadata": {},
   "source": [
    "A summary of Python Data Structures\n",
    "List, Dictionary, Tuple, Set"
   ]
  },
  {
   "cell_type": "code",
   "execution_count": 11,
   "metadata": {},
   "outputs": [
    {
     "name": "stdout",
     "output_type": "stream",
     "text": [
      "2 value poped ['a', 'b', 'd', 'a', 'a', 1, 2, 3]\n",
      "Reversed: [3, 2, 1, 'a', 'a', 'd', 'b', 'a']\n"
     ]
    }
   ],
   "source": [
    "#List: can be used to store different types of values\n",
    "List = [\"a\",\"b\",\"c\",\"d\",\"a\",\"a\",1,2,3]\n",
    "\n",
    "List.append(\"e\")                #Add element at the end\n",
    "List.pop()                      #Pop last value in List\n",
    "List.pop(2)                     #Pop the List[2] element out\n",
    "print(\"2 value poped\",List)\n",
    "\n",
    "List.count(\"a\")                 #Count element occurance\n",
    "List.reverse()                  #Reverse the elements\n",
    "print(\"Reversed:\",List)"
   ]
  },
  {
   "cell_type": "code",
   "execution_count": 12,
   "metadata": {},
   "outputs": [
    {
     "name": "stdout",
     "output_type": "stream",
     "text": [
      "copied b: [3, 2, 1, 'a', 'a', 'd', 'b', 'a']\n",
      "original list: ['a', 'b', 'd', 'a', 'a', 1, 2, 3]\n"
     ]
    }
   ],
   "source": [
    "#List copy\n",
    "b=List.copy()                   #copy returns a copy of the list values, rather then the list, different from b=List\n",
    "#b=List\n",
    "List.reverse() \n",
    "print(\"copied b:\",b)\n",
    "print(\"original list:\",List)"
   ]
  },
  {
   "cell_type": "code",
   "execution_count": 13,
   "metadata": {},
   "outputs": [
    {
     "name": "stdout",
     "output_type": "stream",
     "text": [
      "['a', 'b', 'c', 'd', 'e']\n",
      "['a', 'b', 'c', 'd']\n"
     ]
    }
   ],
   "source": [
    "#List as stack (Last In, First Out)\n",
    "Stack=[\"a\",\"b\",\"c\"]\n",
    "Stack.append(\"d\")\n",
    "Stack.append(\"e\")\n",
    "print(Stack)\n",
    "\n",
    "Stack.pop()\n",
    "print(Stack)"
   ]
  },
  {
   "cell_type": "code",
   "execution_count": 14,
   "metadata": {},
   "outputs": [
    {
     "name": "stdout",
     "output_type": "stream",
     "text": [
      "deque(['Eric', 'John', 'Michael', 'Terry', 'Graham'])\n",
      "deque(['John', 'Michael', 'Terry', 'Graham'])\n"
     ]
    }
   ],
   "source": [
    "#List as queue (First In, First Out)\n",
    "from collections import deque\n",
    "queue = deque([\"Eric\", \"John\", \"Michael\"])\n",
    "queue.append(\"Terry\")\n",
    "queue.append(\"Graham\")\n",
    "print(queue)\n",
    "\n",
    "queue.popleft()\n",
    "print(queue)"
   ]
  },
  {
   "cell_type": "code",
   "execution_count": 15,
   "metadata": {},
   "outputs": [
    {
     "name": "stdout",
     "output_type": "stream",
     "text": [
      "[0, 1, 4, 9, 16, 25, 36, 49, 64, 81]\n",
      "[0, 2, 4]\n",
      "[(0, 0), (1, 1), (2, 4), (3, 9), (4, 16), (5, 25)]\n"
     ]
    }
   ],
   "source": [
    "#List Comprehensions, a fast way to create Lists\n",
    "squares = [x**2 for x in range(10)]\n",
    "print(squares)\n",
    "\n",
    "vec = [-4, -2, 0, 2, 4]\n",
    "vec2 = [x for x in vec if x >= 0]\n",
    "print(vec2)\n",
    "\n",
    "pair = [(x, x**2) for x in range(6)]\n",
    "print(pair)"
   ]
  },
  {
   "cell_type": "code",
   "execution_count": 16,
   "metadata": {},
   "outputs": [
    {
     "name": "stdout",
     "output_type": "stream",
     "text": [
      "0 tic\n",
      "1 tac\n",
      "2 toe\n"
     ]
    }
   ],
   "source": [
    "#List iterator\n",
    "for i, v in enumerate(['tic', 'tac', 'toe']):\n",
    "    print(i,v)"
   ]
  },
  {
   "cell_type": "code",
   "execution_count": 17,
   "metadata": {},
   "outputs": [
    {
     "name": "stdout",
     "output_type": "stream",
     "text": [
      "[[0, 0, 0, 0, 0], [0, 0, 0, 0, 0], [0, 0, 0, 0, 0], [0, 0, 0, 0, 0], [0, 0, 0, 0, 0], [0, 0, 0, 0, 0], [0, 0, 0, 0, 0], [0, 0, 0, 0, 0]]\n",
      "[[1, 5, 9], [2, 6, 10], [3, 7, 11], [4, 8, 12]]\n"
     ]
    },
    {
     "data": {
      "text/html": [
       "<div>\n",
       "<style scoped>\n",
       "    .dataframe tbody tr th:only-of-type {\n",
       "        vertical-align: middle;\n",
       "    }\n",
       "\n",
       "    .dataframe tbody tr th {\n",
       "        vertical-align: top;\n",
       "    }\n",
       "\n",
       "    .dataframe thead th {\n",
       "        text-align: right;\n",
       "    }\n",
       "</style>\n",
       "<table border=\"1\" class=\"dataframe\">\n",
       "  <thead>\n",
       "    <tr style=\"text-align: right;\">\n",
       "      <th></th>\n",
       "      <th>v1</th>\n",
       "      <th>v2</th>\n",
       "      <th>v3</th>\n",
       "      <th>v4</th>\n",
       "    </tr>\n",
       "  </thead>\n",
       "  <tbody>\n",
       "    <tr>\n",
       "      <th>a</th>\n",
       "      <td>1</td>\n",
       "      <td>2</td>\n",
       "      <td>3</td>\n",
       "      <td>4</td>\n",
       "    </tr>\n",
       "    <tr>\n",
       "      <th>b</th>\n",
       "      <td>5</td>\n",
       "      <td>6</td>\n",
       "      <td>7</td>\n",
       "      <td>8</td>\n",
       "    </tr>\n",
       "    <tr>\n",
       "      <th>c</th>\n",
       "      <td>9</td>\n",
       "      <td>10</td>\n",
       "      <td>11</td>\n",
       "      <td>12</td>\n",
       "    </tr>\n",
       "  </tbody>\n",
       "</table>\n",
       "</div>"
      ],
      "text/plain": [
       "   v1  v2  v3  v4\n",
       "a   1   2   3   4\n",
       "b   5   6   7   8\n",
       "c   9  10  11  12"
      ]
     },
     "execution_count": 17,
     "metadata": {},
     "output_type": "execute_result"
    }
   ],
   "source": [
    "#Nested Lists\n",
    "Table=[[0]*5 for i in range(8)]                               #A fast way to initialize an all-zero nested list\n",
    "print(Table)\n",
    "\n",
    "matrix = [[1, 2, 3, 4],[5, 6, 7, 8],[9, 10, 11, 12],]\n",
    "Transpose = [[row[i] for row in matrix] for i in range(4)]    #Transpose\n",
    "print(Transpose)\n",
    "    \n",
    "import pandas as pd\n",
    "pd.DataFrame(matrix, columns = [\"v1\",\"v2\",\"v3\",\"v4\"], index = [\"a\",\"b\",\"c\"])"
   ]
  },
  {
   "cell_type": "code",
   "execution_count": 18,
   "metadata": {},
   "outputs": [
    {
     "name": "stdout",
     "output_type": "stream",
     "text": [
      "{}\n",
      "{'a': 1, 'b': 2, 'c': 3}\n",
      "jack 4098\n",
      "sape 4139\n",
      "guido 4127\n"
     ]
    }
   ],
   "source": [
    "#Dictionary\n",
    "emptydic = {}\n",
    "print(emptydic)\n",
    "\n",
    "dictfromlist = dict([('a', 1), ('b', 2), ('c', 3)])\n",
    "print(dictfromlist)\n",
    "\n",
    "tel = {'jack': 4098, 'sape': 4139}\n",
    "tel['guido'] = 4127                       #Add values\n",
    "\n",
    "for k,v in tel.items():                   #Loop a Dict\n",
    "    print(k,v)"
   ]
  },
  {
   "cell_type": "code",
   "execution_count": 19,
   "metadata": {},
   "outputs": [
    {
     "name": "stdout",
     "output_type": "stream",
     "text": [
      "()\n",
      "(12345, 54321, 'hello!', 12345)\n",
      "([0, 2, 3], [3, 2, 1])\n",
      "('a', 'b', 'c', 'd', 'a', 'a', 1, 2, 3)\n"
     ]
    }
   ],
   "source": [
    "#Tuple: unmutable, can be used to store different types of values, and allows repeats\n",
    "#Looping through a tuple is much faster than a list\n",
    "empty = ()\n",
    "print(empty)\n",
    "\n",
    "tu1 = 12345, 54321, 'hello!',12345\n",
    "print(tu1)\n",
    "\n",
    "#Although tuple is not mutable, but it allows mutable elements inside\n",
    "tu2 = ([1, 2, 3], [3, 2, 1])\n",
    "tu2[0][0] = 0\n",
    "print(tu2)\n",
    "\n",
    "List = [\"a\",\"b\",\"c\",\"d\",\"a\",\"a\",1,2,3]\n",
    "Tuple = tuple(List)               #Can be converted from a list\n",
    "print(Tuple)"
   ]
  },
  {
   "cell_type": "code",
   "execution_count": 20,
   "metadata": {},
   "outputs": [
    {
     "name": "stdout",
     "output_type": "stream",
     "text": [
      "set()\n",
      "{'apple', 'pear', 'banana', 'orange'}\n",
      "{'pear', 'banana', 'orange', 'grape', 'apple'}\n",
      "{1, 'a', 'b', 2, 3, 'd', 'c'}\n"
     ]
    }
   ],
   "source": [
    "#Set, mutable, but no order. So you cannot do Set[0], etc\n",
    "emptyset = set()                  #() can only create a tuple. set() is required\n",
    "print(emptyset)\n",
    "\n",
    "basket = {'apple', 'orange', 'apple', 'pear', 'orange', 'banana'}\n",
    "print(basket)                     #Duplication will be removed\n",
    "\n",
    "basket.add(\"grape\")\n",
    "print(basket)                     #The displayed order doesn't mean sets have orders\n",
    "\n",
    "Set = set(Tuple)                  #Create set from Tuple or List, and repeated elemets will be removed\n",
    "print(Set)"
   ]
  }
 ],
 "metadata": {
  "kernelspec": {
   "display_name": "Python 3",
   "language": "python",
   "name": "python3"
  },
  "language_info": {
   "codemirror_mode": {
    "name": "ipython",
    "version": 3
   },
   "file_extension": ".py",
   "mimetype": "text/x-python",
   "name": "python",
   "nbconvert_exporter": "python",
   "pygments_lexer": "ipython3",
   "version": "3.7.1"
  }
 },
 "nbformat": 4,
 "nbformat_minor": 2
}
